{
  "nbformat": 4,
  "nbformat_minor": 0,
  "metadata": {
    "colab": {
      "name": "Sarcasm_NLP.ipynb",
      "provenance": [],
      "collapsed_sections": []
    },
    "kernelspec": {
      "name": "python3",
      "display_name": "Python 3"
    }
  },
  "cells": [
    {
      "cell_type": "code",
      "metadata": {
        "id": "zwXbUJHcKQ6D",
        "colab_type": "code",
        "outputId": "9c490208-302c-42b1-c0a2-bfae2b3b642e",
        "colab": {
          "base_uri": "https://localhost:8080/",
          "height": 204
        }
      },
      "source": [
        "!wget https://storage.googleapis.com/laurencemoroney-blog.appspot.com/sarcasm.json -O /tmp/sarcasm.json\n"
      ],
      "execution_count": 1,
      "outputs": [
        {
          "output_type": "stream",
          "text": [
            "--2020-05-27 18:45:17--  https://storage.googleapis.com/laurencemoroney-blog.appspot.com/sarcasm.json\n",
            "Resolving storage.googleapis.com (storage.googleapis.com)... 172.217.204.128, 2607:f8b0:400c:c15::80\n",
            "Connecting to storage.googleapis.com (storage.googleapis.com)|172.217.204.128|:443... connected.\n",
            "HTTP request sent, awaiting response... 200 OK\n",
            "Length: 5643545 (5.4M) [application/json]\n",
            "Saving to: ‘/tmp/sarcasm.json’\n",
            "\n",
            "\r/tmp/sarcasm.json     0%[                    ]       0  --.-KB/s               \r/tmp/sarcasm.json   100%[===================>]   5.38M  --.-KB/s    in 0.04s   \n",
            "\n",
            "2020-05-27 18:45:17 (135 MB/s) - ‘/tmp/sarcasm.json’ saved [5643545/5643545]\n",
            "\n"
          ],
          "name": "stdout"
        }
      ]
    },
    {
      "cell_type": "code",
      "metadata": {
        "id": "nGl2ff6hPgKj",
        "colab_type": "code",
        "colab": {}
      },
      "source": [
        "import json\n",
        "with open('/tmp/sarcasm.json','r') as f:\n",
        "  datastore=json.load(f)"
      ],
      "execution_count": 0,
      "outputs": []
    },
    {
      "cell_type": "code",
      "metadata": {
        "id": "nNtDy5I_Wmz7",
        "colab_type": "code",
        "colab": {}
      },
      "source": [
        "vocab_size=1000\n",
        "embedding_dim=16\n",
        "max_length=16\n",
        "trun_type='post'\n",
        "padding_type='post'\n",
        "oov_tok='<OOV>'\n",
        "training_size=20000"
      ],
      "execution_count": 0,
      "outputs": []
    },
    {
      "cell_type": "code",
      "metadata": {
        "id": "3gf7vSDvQW2Z",
        "colab_type": "code",
        "colab": {}
      },
      "source": [
        "sentences=[]\n",
        "labels=[]\n",
        "urls=[]\n",
        "\n",
        "for item in datastore:\n",
        "  sentences.append(item['headline'])\n",
        "  labels.append(item['is_sarcastic'])\n",
        "  urls.append(item['article_link'])"
      ],
      "execution_count": 0,
      "outputs": []
    },
    {
      "cell_type": "code",
      "metadata": {
        "id": "BFATR-UkXLwH",
        "colab_type": "code",
        "colab": {}
      },
      "source": [
        "training_sentences=sentences[0:training_size]\n",
        "training_labels=labels[0:training_size]\n",
        "\n",
        "testing_sentences=sentences[training_size:]\n",
        "testing_labels=labels[training_size:]"
      ],
      "execution_count": 0,
      "outputs": []
    },
    {
      "cell_type": "code",
      "metadata": {
        "id": "tFFaPzcda3wE",
        "colab_type": "code",
        "colab": {}
      },
      "source": [
        "import numpy as np\n",
        "\n",
        "training_labels_final=np.array(training_labels)\n",
        "testing_labels_final=np.array(testing_labels)"
      ],
      "execution_count": 0,
      "outputs": []
    },
    {
      "cell_type": "code",
      "metadata": {
        "id": "2OiudnXYRCaQ",
        "colab_type": "code",
        "outputId": "faa46964-d845-481d-f038-4134130e511a",
        "colab": {
          "base_uri": "https://localhost:8080/",
          "height": 34
        }
      },
      "source": [
        "from tensorflow.keras.preprocessing.text import Tokenizer\n",
        "from tensorflow.keras.preprocessing.sequence import pad_sequences\n",
        "\n",
        "tokenizer=Tokenizer(num_words=vocab_size,oov_token=oov_tok)\n",
        "tokenizer.fit_on_texts(training_sentences)\n",
        "word_index=tokenizer.word_index\n",
        "\n",
        "sequences=tokenizer.texts_to_sequences(training_sentences)\n",
        "padded=pad_sequences(sequences,maxlen=max_length,padding=padding_type,truncating=trun_type)\n",
        "\n",
        "print(len(word_index))"
      ],
      "execution_count": 16,
      "outputs": [
        {
          "output_type": "stream",
          "text": [
            "25637\n"
          ],
          "name": "stdout"
        }
      ]
    },
    {
      "cell_type": "code",
      "metadata": {
        "id": "Cn6i0ruXZHdT",
        "colab_type": "code",
        "colab": {}
      },
      "source": [
        "testing_sequences=tokenizer.texts_to_sequences(testing_sentences)\n",
        "testing_padded=pad_sequences(testing_sequences,maxlen=max_length,padding=padding_type,truncating=trun_type)"
      ],
      "execution_count": 0,
      "outputs": []
    },
    {
      "cell_type": "code",
      "metadata": {
        "id": "WtSGHQCvRHqC",
        "colab_type": "code",
        "outputId": "c1ad4adb-540e-4d7b-daaa-e1c673c6262c",
        "colab": {
          "base_uri": "https://localhost:8080/",
          "height": 289
        }
      },
      "source": [
        "import tensorflow as tf\n",
        "\n",
        "model=tf.keras.Sequential([\n",
        "                                   tf.keras.layers.Embedding(vocab_size,embedding_dim,input_length=max_length),\n",
        "                                   tf.keras.layers.Flatten(),\n",
        "                                   tf.keras.layers.Dense(24,activation='relu'),\n",
        "                                   tf.keras.layers.Dense(1,activation='sigmoid')\n",
        "])\n",
        "\n",
        "model.compile(loss='binary_crossentropy',optimizer='adam',metrics=['accuracy'])\n",
        "model.summary()"
      ],
      "execution_count": 18,
      "outputs": [
        {
          "output_type": "stream",
          "text": [
            "Model: \"sequential_1\"\n",
            "_________________________________________________________________\n",
            "Layer (type)                 Output Shape              Param #   \n",
            "=================================================================\n",
            "embedding_1 (Embedding)      (None, 16, 16)            16000     \n",
            "_________________________________________________________________\n",
            "flatten_1 (Flatten)          (None, 256)               0         \n",
            "_________________________________________________________________\n",
            "dense_2 (Dense)              (None, 24)                6168      \n",
            "_________________________________________________________________\n",
            "dense_3 (Dense)              (None, 1)                 25        \n",
            "=================================================================\n",
            "Total params: 22,193\n",
            "Trainable params: 22,193\n",
            "Non-trainable params: 0\n",
            "_________________________________________________________________\n"
          ],
          "name": "stdout"
        }
      ]
    },
    {
      "cell_type": "code",
      "metadata": {
        "id": "mfqcZs2vT98t",
        "colab_type": "code",
        "outputId": "5d76d65e-9d4b-4f54-b49d-feccb33cec54",
        "colab": {
          "base_uri": "https://localhost:8080/",
          "height": 1000
        }
      },
      "source": [
        "num_epochs = 30\n",
        "history=model.fit(padded,training_labels_final,epochs=num_epochs,validation_data=(testing_padded,testing_labels_final),verbose=2)"
      ],
      "execution_count": 19,
      "outputs": [
        {
          "output_type": "stream",
          "text": [
            "Epoch 1/30\n",
            "625/625 - 1s - loss: 0.4611 - accuracy: 0.7644 - val_loss: 0.3753 - val_accuracy: 0.8272\n",
            "Epoch 2/30\n",
            "625/625 - 1s - loss: 0.3247 - accuracy: 0.8533 - val_loss: 0.3621 - val_accuracy: 0.8329\n",
            "Epoch 3/30\n",
            "625/625 - 1s - loss: 0.2877 - accuracy: 0.8727 - val_loss: 0.3767 - val_accuracy: 0.8304\n",
            "Epoch 4/30\n",
            "625/625 - 1s - loss: 0.2597 - accuracy: 0.8865 - val_loss: 0.3918 - val_accuracy: 0.8216\n",
            "Epoch 5/30\n",
            "625/625 - 1s - loss: 0.2318 - accuracy: 0.9032 - val_loss: 0.4234 - val_accuracy: 0.8182\n",
            "Epoch 6/30\n",
            "625/625 - 1s - loss: 0.2054 - accuracy: 0.9140 - val_loss: 0.4571 - val_accuracy: 0.8140\n",
            "Epoch 7/30\n",
            "625/625 - 1s - loss: 0.1820 - accuracy: 0.9251 - val_loss: 0.5024 - val_accuracy: 0.8080\n",
            "Epoch 8/30\n",
            "625/625 - 1s - loss: 0.1604 - accuracy: 0.9388 - val_loss: 0.5493 - val_accuracy: 0.8004\n",
            "Epoch 9/30\n",
            "625/625 - 1s - loss: 0.1461 - accuracy: 0.9427 - val_loss: 0.6066 - val_accuracy: 0.7951\n",
            "Epoch 10/30\n",
            "625/625 - 1s - loss: 0.1317 - accuracy: 0.9506 - val_loss: 0.6683 - val_accuracy: 0.7936\n",
            "Epoch 11/30\n",
            "625/625 - 1s - loss: 0.1215 - accuracy: 0.9539 - val_loss: 0.7054 - val_accuracy: 0.7876\n",
            "Epoch 12/30\n",
            "625/625 - 1s - loss: 0.1119 - accuracy: 0.9579 - val_loss: 0.7532 - val_accuracy: 0.7855\n",
            "Epoch 13/30\n",
            "625/625 - 1s - loss: 0.1048 - accuracy: 0.9607 - val_loss: 0.8173 - val_accuracy: 0.7816\n",
            "Epoch 14/30\n",
            "625/625 - 1s - loss: 0.1010 - accuracy: 0.9613 - val_loss: 0.8528 - val_accuracy: 0.7815\n",
            "Epoch 15/30\n",
            "625/625 - 1s - loss: 0.0953 - accuracy: 0.9635 - val_loss: 0.9110 - val_accuracy: 0.7824\n",
            "Epoch 16/30\n",
            "625/625 - 1s - loss: 0.0884 - accuracy: 0.9660 - val_loss: 0.9681 - val_accuracy: 0.7776\n",
            "Epoch 17/30\n",
            "625/625 - 1s - loss: 0.0862 - accuracy: 0.9681 - val_loss: 0.9974 - val_accuracy: 0.7773\n",
            "Epoch 18/30\n",
            "625/625 - 1s - loss: 0.0837 - accuracy: 0.9686 - val_loss: 1.0416 - val_accuracy: 0.7764\n",
            "Epoch 19/30\n",
            "625/625 - 1s - loss: 0.0787 - accuracy: 0.9701 - val_loss: 1.0779 - val_accuracy: 0.7696\n",
            "Epoch 20/30\n",
            "625/625 - 1s - loss: 0.0776 - accuracy: 0.9703 - val_loss: 1.1168 - val_accuracy: 0.7705\n",
            "Epoch 21/30\n",
            "625/625 - 1s - loss: 0.0746 - accuracy: 0.9716 - val_loss: 1.1677 - val_accuracy: 0.7709\n",
            "Epoch 22/30\n",
            "625/625 - 1s - loss: 0.0734 - accuracy: 0.9717 - val_loss: 1.1774 - val_accuracy: 0.7699\n",
            "Epoch 23/30\n",
            "625/625 - 1s - loss: 0.0701 - accuracy: 0.9740 - val_loss: 1.2145 - val_accuracy: 0.7684\n",
            "Epoch 24/30\n",
            "625/625 - 1s - loss: 0.0689 - accuracy: 0.9729 - val_loss: 1.2483 - val_accuracy: 0.7658\n",
            "Epoch 25/30\n",
            "625/625 - 1s - loss: 0.0667 - accuracy: 0.9740 - val_loss: 1.2932 - val_accuracy: 0.7657\n",
            "Epoch 26/30\n",
            "625/625 - 1s - loss: 0.0661 - accuracy: 0.9736 - val_loss: 1.3207 - val_accuracy: 0.7618\n",
            "Epoch 27/30\n",
            "625/625 - 1s - loss: 0.0640 - accuracy: 0.9747 - val_loss: 1.3471 - val_accuracy: 0.7627\n",
            "Epoch 28/30\n",
            "625/625 - 1s - loss: 0.0621 - accuracy: 0.9758 - val_loss: 1.3628 - val_accuracy: 0.7621\n",
            "Epoch 29/30\n",
            "625/625 - 1s - loss: 0.0609 - accuracy: 0.9750 - val_loss: 1.4165 - val_accuracy: 0.7596\n",
            "Epoch 30/30\n",
            "625/625 - 1s - loss: 0.0609 - accuracy: 0.9765 - val_loss: 1.4490 - val_accuracy: 0.7614\n"
          ],
          "name": "stdout"
        }
      ]
    },
    {
      "cell_type": "code",
      "metadata": {
        "id": "ihKnyuUVUiPq",
        "colab_type": "code",
        "colab": {
          "base_uri": "https://localhost:8080/",
          "height": 541
        },
        "outputId": "f3ede646-7f8a-46ac-c779-a28df701926d"
      },
      "source": [
        "%matplotlib inline\n",
        "import matplotlib.pyplot as plt\n",
        "def plot_graphs(history,string):\n",
        "  plt.plot(history.history[string])\n",
        "  plt.plot(history.history['val_'+string])\n",
        "  plt.xlabel('Epochs')\n",
        "  plt.ylabel(string)\n",
        "  plt.legend([string,'val_'+string])\n",
        "  plt.show()\n",
        "plot_graphs(history,'accuracy')\n",
        "plot_graphs(history,'loss')"
      ],
      "execution_count": 20,
      "outputs": [
        {
          "output_type": "display_data",
          "data": {
            "image/png": "[encoded data removed]",
            "text/plain": [
              "<Figure size 432x288 with 1 Axes>"
            ]
          },
          "metadata": {
            "tags": [],
            "needs_background": "light"
          }
        },
        {
          "output_type": "display_data",
          "data": {
            "image/png": "[encoded data removed]",
            "text/plain": [
              "<Figure size 432x288 with 1 Axes>"
            ]
          },
          "metadata": {
            "tags": [],
            "needs_background": "light"
          }
        }
      ]
    },
    {
      "cell_type": "code",
      "metadata": {
        "id": "mCwwJO-Cc2C5",
        "colab_type": "code",
        "colab": {}
      },
      "source": [
        ""
      ],
      "execution_count": 0,
      "outputs": []
    }
  ]
}